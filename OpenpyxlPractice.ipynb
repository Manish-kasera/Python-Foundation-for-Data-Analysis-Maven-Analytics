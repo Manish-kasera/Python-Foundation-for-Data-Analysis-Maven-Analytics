{
 "cells": [
  {
   "cell_type": "code",
   "execution_count": 1,
   "id": "fb2adc83",
   "metadata": {},
   "outputs": [],
   "source": [
    "import openpyxl as xl\n",
    "\n",
    "path = \"C:\\\\Users\\\\61095901\\\\Documents\\\\Data Analytics(udemy)\\\\Python\\\\Python Foundation Course\\\\Python Course Assignments\\\\Section12_excel\\\\maven_ski_shop_data.xlsx\"\n",
    "workbook = xl.load_workbook(filename=path)"
   ]
  },
  {
   "cell_type": "code",
   "execution_count": 2,
   "id": "d7dee7a0",
   "metadata": {},
   "outputs": [
    {
     "data": {
      "text/plain": [
       "['Item_Info', 'Inventory_Levels', 'Orders_Info']"
      ]
     },
     "execution_count": 2,
     "metadata": {},
     "output_type": "execute_result"
    }
   ],
   "source": [
    "workbook.sheetnames\n"
   ]
  },
  {
   "cell_type": "code",
   "execution_count": 3,
   "id": "c4864662",
   "metadata": {},
   "outputs": [
    {
     "name": "stdout",
     "output_type": "stream",
     "text": [
      "<Worksheet \"Item_Info\">\n"
     ]
    }
   ],
   "source": [
    "print(workbook.active)"
   ]
  },
  {
   "cell_type": "code",
   "execution_count": 4,
   "id": "b65b3f26",
   "metadata": {},
   "outputs": [
    {
     "name": "stdout",
     "output_type": "stream",
     "text": [
      "<Worksheet \"Orders_Info\">\n",
      "Orders_Info\n"
     ]
    }
   ],
   "source": [
    "workbook.active = 2\n",
    "print(workbook.active)\n",
    "print(workbook.active.title)"
   ]
  },
  {
   "cell_type": "code",
   "execution_count": 5,
   "id": "11e18146",
   "metadata": {},
   "outputs": [
    {
     "name": "stdout",
     "output_type": "stream",
     "text": [
      "['Item_Info', 'Inventory_Levels', 'Orders_Info']\n",
      "<Worksheet \"Item_Info\">\n"
     ]
    }
   ],
   "source": [
    "# Sheets can also be refered by name\n",
    "\n",
    "print(workbook.sheetnames)\n",
    "\n",
    "print(workbook[\"Item_Info\"])\n",
    "\n",
    "items = workbook[\"Item_Info\"]\n",
    "inventory = workbook[\"Inventory_Levels\"]\n",
    "orders = workbook[\"Orders_Info\"]\n",
    "\n"
   ]
  },
  {
   "cell_type": "code",
   "execution_count": 6,
   "id": "261330ae",
   "metadata": {},
   "outputs": [
    {
     "name": "stdout",
     "output_type": "stream",
     "text": [
      "Product_Name\n",
      "<Cell 'Item_Info'.B4>\n",
      "Product_Name\n",
      "Gloves\n",
      "Sweatshirt\n",
      "\n",
      "Product_Name\n",
      "Gloves\n",
      "Sweatshirt\n"
     ]
    }
   ],
   "source": [
    "#direct without reference\n",
    "print(workbook[\"Item_Info\"][\"B1\"].value)\n",
    "\n",
    "# sheet[\"coordinate\"]\n",
    "print(items[\"B4\"])\n",
    "\n",
    "print(items[\"B1\"].value)\n",
    "print(items[\"B4\"].value)\n",
    "\n",
    "print(items[\"B5\"].value)\n",
    "\n",
    "#sheet.cell(row,col)\n",
    "print()\n",
    "print(items.cell(row=1,column=2).value)\n",
    "print(items.cell(row=4,column=2).value)\n",
    "print(items.cell(row=5,column=2).value)"
   ]
  },
  {
   "cell_type": "code",
   "execution_count": 7,
   "id": "b0730d1b",
   "metadata": {},
   "outputs": [
    {
     "name": "stdout",
     "output_type": "stream",
     "text": [
      "Quantity_in_stock\n",
      "100\n",
      "Healthy Stock\n"
     ]
    }
   ],
   "source": [
    "print(inventory[\"B1\"].value)\n",
    "print(inventory[\"B2\"].value)\n",
    "\n",
    "\n",
    "if inventory[\"B4\"].value < 10:\n",
    "    print(\"Low Stock\")\n",
    "else:\n",
    "    print(\"Healthy Stock\")\n"
   ]
  },
  {
   "cell_type": "code",
   "execution_count": 8,
   "id": "6612a3dc",
   "metadata": {},
   "outputs": [
    {
     "name": "stdout",
     "output_type": "stream",
     "text": [
      "Sales tax : $8.0\n",
      "Total : $107.99\n"
     ]
    }
   ],
   "source": [
    "sale_tax = round(orders[\"D10\"].value * 0.08,2)\n",
    "total = round(orders[\"D10\"].value + sale_tax,2)\n",
    "\n",
    "print(f\"Sales tax : ${sale_tax}\")\n",
    "print(f\"Total : ${total}\")"
   ]
  },
  {
   "cell_type": "code",
   "execution_count": 9,
   "id": "95d85a05",
   "metadata": {},
   "outputs": [
    {
     "name": "stdout",
     "output_type": "stream",
     "text": [
      "B1 :  Product_Name\n",
      "B2 :  Coffee\n",
      "B3 :  Beanie\n",
      "B4 :  Gloves\n",
      "B5 :  Sweatshirt\n",
      "B6 :  Helmet\n",
      "B7 :  Snow Pants\n",
      "B8 :  Coat\n",
      "B9 :  Ski Poles\n",
      "B10 :  Ski Boots\n",
      "B11 :  Skis\n",
      "B12 :  Snowboard Boots\n",
      "B13 :  Bindings\n",
      "B14 :  Snowboard\n"
     ]
    }
   ],
   "source": [
    "# Determines Sheets range (Looping through cell)\n",
    "\n",
    "# print(items.max_row)\n",
    "# print(items.max_column)\n",
    "\n",
    "for row in range(1,items.max_row+1):\n",
    "    print(f\"B{row} : \",items[f\"B{row}\"].value)"
   ]
  },
  {
   "cell_type": "code",
   "execution_count": 10,
   "id": "42458ef7",
   "metadata": {},
   "outputs": [
    {
     "name": "stdout",
     "output_type": "stream",
     "text": [
      "Price    Euro data\n",
      "5.99    5.27\n",
      "9.99    8.79\n",
      "19.99    17.59\n",
      "24.99    21.99\n",
      "99.99    87.99\n",
      "79.99    70.39\n",
      "119.99    105.59\n",
      "99.99    87.99\n",
      "199.99    175.99\n",
      "599.99    527.99\n",
      "129.99    114.39\n",
      "149.99    131.99\n",
      "499.99    439.99\n",
      "\n",
      "F1 Euro data\n",
      "F2 5.27\n",
      "F3 8.79\n",
      "F4 17.59\n",
      "F5 21.99\n",
      "F6 87.99\n",
      "F7 70.39\n",
      "F8 105.59\n",
      "F9 87.99\n",
      "F10 175.99\n",
      "F11 527.99\n",
      "F12 114.39\n",
      "F13 131.99\n",
      "F14 439.99\n"
     ]
    }
   ],
   "source": [
    "# Putting data in excel\n",
    "\n",
    "items[\"F1\"].value = \"Euro data\"\n",
    "\n",
    "for row in range(2,items.max_row+1):\n",
    "    items[f\"F{row}\"].value = round(items[f\"C{row}\"].value * 0.88,2)\n",
    "\n",
    "# Checking for euro data\n",
    "for row in range(1,items.max_row+1):\n",
    "    print(items[f\"C{row}\"].value, \"  \", items[f\"F{row}\"].value)\n",
    "    \n",
    "print()    \n",
    "\n",
    "for index,cell in enumerate(items[\"F\"],start=1):\n",
    "    print(f\"F{index}\",cell.value)\n",
    "    \n",
    "\n",
    "# To save the changes\n",
    "# workbook.save('maven_data_new_pricing.xlsx')   \n",
    "    "
   ]
  },
  {
   "cell_type": "code",
   "execution_count": 11,
   "id": "b9fdc541",
   "metadata": {},
   "outputs": [
    {
     "name": "stdout",
     "output_type": "stream",
     "text": [
      "Test\n",
      "Available Sizes\n"
     ]
    }
   ],
   "source": [
    "#inserting and deleting columns\n",
    "\n",
    "# Syntax : sheet.insert_cols(idx)\n",
    "# After inserting one column shift -> take place\n",
    "\n",
    "items[\"E1\"].value\n",
    "\n",
    "items.insert_cols(idx=5)\n",
    "items[\"E1\"] = \"Test\"\n",
    "\n",
    "print(items[\"E1\"].value)\n",
    "print(items[\"F1\"].value)\n",
    "\n",
    "# Syntax : sheet.delete_cols(idx)\n",
    "# After delete one column shift <- take place\n"
   ]
  },
  {
   "cell_type": "code",
   "execution_count": null,
   "id": "998eed00",
   "metadata": {},
   "outputs": [],
   "source": [
    "# save workbook\n",
    "\n",
    "# syntax workbook.save(filename)\n",
    "# workbook.save('maven_data_new_pricing.xlsx') "
   ]
  }
 ],
 "metadata": {
  "kernelspec": {
   "display_name": "Python 3 (ipykernel)",
   "language": "python",
   "name": "python3"
  },
  "language_info": {
   "codemirror_mode": {
    "name": "ipython",
    "version": 3
   },
   "file_extension": ".py",
   "mimetype": "text/x-python",
   "name": "python",
   "nbconvert_exporter": "python",
   "pygments_lexer": "ipython3",
   "version": "3.11.5"
  }
 },
 "nbformat": 4,
 "nbformat_minor": 5
}
