{
 "cells": [
  {
   "cell_type": "code",
   "execution_count": 1,
   "id": "fd4d0cc2",
   "metadata": {},
   "outputs": [
    {
     "data": {
      "text/plain": [
       "133"
      ]
     },
     "execution_count": 1,
     "metadata": {},
     "output_type": "execute_result"
    }
   ],
   "source": [
    "9+123+1"
   ]
  },
  {
   "cell_type": "code",
   "execution_count": 2,
   "id": "faee3956",
   "metadata": {
    "scrolled": false
   },
   "outputs": [
    {
     "name": "stdout",
     "output_type": "stream",
     "text": [
      "Manish\n"
     ]
    }
   ],
   "source": [
    "print(\"Manish\")"
   ]
  },
  {
   "cell_type": "markdown",
   "id": "fad61196",
   "metadata": {},
   "source": [
    "# Markdown\n",
    "## Testing \n",
    "\n",
    "My name is Khan\n",
    "\n",
    "* My \n",
    "* Name\n",
    "\n",
    "**Bold** \n",
    "\n",
    "*** Bold and Italic ***\n",
    "\n",
    "`arr[] = [1,245,5,56,100]`\n"
   ]
  },
  {
   "cell_type": "code",
   "execution_count": 3,
   "id": "3aca0942",
   "metadata": {},
   "outputs": [
    {
     "name": "stdout",
     "output_type": "stream",
     "text": [
      "My name is Manish 1 10\n"
     ]
    }
   ],
   "source": [
    "print(\"My name is Manish\",1,5+5)"
   ]
  },
  {
   "cell_type": "code",
   "execution_count": 4,
   "id": "af3059dd",
   "metadata": {},
   "outputs": [],
   "source": [
    "# print?"
   ]
  },
  {
   "cell_type": "code",
   "execution_count": 5,
   "id": "ecffc686",
   "metadata": {},
   "outputs": [
    {
     "data": {
      "text/plain": [
       "int"
      ]
     },
     "execution_count": 5,
     "metadata": {},
     "output_type": "execute_result"
    }
   ],
   "source": [
    "type(12)"
   ]
  },
  {
   "cell_type": "code",
   "execution_count": 6,
   "id": "6dc4c9c3",
   "metadata": {},
   "outputs": [
    {
     "data": {
      "text/plain": [
       "list"
      ]
     },
     "execution_count": 6,
     "metadata": {},
     "output_type": "execute_result"
    }
   ],
   "source": [
    "type([1,329,\"mansih\"])"
   ]
  },
  {
   "cell_type": "code",
   "execution_count": 7,
   "id": "454d0f30",
   "metadata": {},
   "outputs": [
    {
     "name": "stdout",
     "output_type": "stream",
     "text": [
      "{1, 10, 'nwd', 203}\n"
     ]
    },
    {
     "data": {
      "text/plain": [
       "set"
      ]
     },
     "execution_count": 7,
     "metadata": {},
     "output_type": "execute_result"
    }
   ],
   "source": [
    "s = {1,10,203,\"nwd\",1} \n",
    "print(s)\n",
    "type(s)"
   ]
  },
  {
   "cell_type": "code",
   "execution_count": 8,
   "id": "1fcead5f",
   "metadata": {},
   "outputs": [
    {
     "name": "stdout",
     "output_type": "stream",
     "text": [
      "1233\n"
     ]
    },
    {
     "data": {
      "text/plain": [
       "int"
      ]
     },
     "execution_count": 8,
     "metadata": {},
     "output_type": "execute_result"
    }
   ],
   "source": [
    "x = int('1233')\n",
    "#y = int('A') # invalid literal for int() with base 10: 'A'\n",
    "print(x)\n",
    "type(x)"
   ]
  },
  {
   "cell_type": "code",
   "execution_count": 9,
   "id": "1d55270e",
   "metadata": {},
   "outputs": [
    {
     "data": {
      "text/plain": [
       "(10, 20, 30)"
      ]
     },
     "execution_count": 9,
     "metadata": {},
     "output_type": "execute_result"
    }
   ],
   "source": [
    "tuple([10,20,30])"
   ]
  },
  {
   "cell_type": "code",
   "execution_count": 10,
   "id": "1b5b07d2",
   "metadata": {},
   "outputs": [
    {
     "name": "stdout",
     "output_type": "stream",
     "text": [
      "7\n"
     ]
    }
   ],
   "source": [
    "price = 5\n",
    "tax = 2\n",
    "total = price + tax\n",
    "print(total)\n",
    "del total"
   ]
  },
  {
   "cell_type": "code",
   "execution_count": 11,
   "id": "91b974d0",
   "metadata": {
    "scrolled": true
   },
   "outputs": [
    {
     "name": "stdout",
     "output_type": "stream",
     "text": [
      "price\t s\t tax\t x\t \n"
     ]
    }
   ],
   "source": [
    "%who"
   ]
  },
  {
   "cell_type": "code",
   "execution_count": 12,
   "id": "1ac59878",
   "metadata": {},
   "outputs": [
    {
     "name": "stdout",
     "output_type": "stream",
     "text": [
      "Variable   Type    Data/Info\n",
      "----------------------------\n",
      "price      int     5\n",
      "s          set     {1, 10, 'nwd', 203}\n",
      "tax        int     2\n",
      "x          int     1233\n"
     ]
    }
   ],
   "source": [
    "%whos"
   ]
  },
  {
   "cell_type": "code",
   "execution_count": 13,
   "id": "df568e4f",
   "metadata": {},
   "outputs": [
    {
     "name": "stdout",
     "output_type": "stream",
     "text": [
      "wdcwec\n"
     ]
    }
   ],
   "source": [
    "print(\"wdcwec\")"
   ]
  },
  {
   "cell_type": "code",
   "execution_count": 14,
   "id": "fe645967",
   "metadata": {},
   "outputs": [
    {
     "name": "stdout",
     "output_type": "stream",
     "text": [
      "14\n"
     ]
    }
   ],
   "source": [
    "x = 3*6 + 5 - 2**3 - 1\n",
    "print(x)"
   ]
  },
  {
   "cell_type": "code",
   "execution_count": 15,
   "id": "5e7f910f",
   "metadata": {},
   "outputs": [
    {
     "name": "stdout",
     "output_type": "stream",
     "text": [
      "4\n",
      "3\n",
      "18.24\n",
      "1233\n",
      "93\n",
      "5\n",
      "45\n"
     ]
    }
   ],
   "source": [
    "x = 3.55\n",
    "print(round(x))\n",
    "\n",
    "x =  3.22\n",
    "print(round(x))\n",
    "\n",
    "x = 18.24434\n",
    "print(round(x,2))\n",
    "\n",
    "x = -1233\n",
    "print(abs(x))\n",
    "\n",
    "x = [10,20,45,5,13]\n",
    "print(sum(x))\n",
    "print(min(x))\n",
    "print(max(x))"
   ]
  },
  {
   "cell_type": "markdown",
   "id": "0e02dbae",
   "metadata": {},
   "source": [
    "### String in Python"
   ]
  },
  {
   "cell_type": "code",
   "execution_count": 16,
   "id": "f2096439",
   "metadata": {},
   "outputs": [
    {
     "name": "stdout",
     "output_type": "stream",
     "text": [
      "My name is \"Khan\"\n",
      "My name is 'Khan'\n",
      "My \"name\"\n",
      "is 'Khan' \n",
      "My name is 'Khan' My name is 'Khan' My name is 'Khan' \n"
     ]
    }
   ],
   "source": [
    "my_string = 'My name is \"Khan\"'\n",
    "print(my_string)\n",
    "\n",
    "my_string = \"My name is 'Khan'\" \n",
    "print(my_string)\n",
    "\n",
    "my_string  = '''My \"name\"\n",
    "is 'Khan' '''\n",
    "print(my_string)\n",
    "\n",
    "my_string = \"My name is 'Khan' \" * 3 \n",
    "print(my_string)"
   ]
  },
  {
   "cell_type": "code",
   "execution_count": 17,
   "id": "7e811625",
   "metadata": {},
   "outputs": [
    {
     "name": "stdout",
     "output_type": "stream",
     "text": [
      "Work Life B\n",
      "Wr ieBlnei o \n",
      "Work Life B\n",
      "Work\n",
      "Life Balance is for average people\n",
      "Work Life Balance is for average people\n",
      "elpoep egareva rof si ecnalaB efiL kroW\n"
     ]
    }
   ],
   "source": [
    "message = \"Work Life Balance is for average people\"\n",
    "print(message[0:11:1]) # Slicing\n",
    "print(message[0:25:2])\n",
    "print(message[0:11])\n",
    "print(message[:4])\n",
    "print(message[5:])\n",
    "print(message[:])\n",
    "print(message[::-1])"
   ]
  },
  {
   "cell_type": "code",
   "execution_count": 18,
   "id": "f76aba6d",
   "metadata": {},
   "outputs": [
    {
     "name": "stdout",
     "output_type": "stream",
     "text": [
      "its snow TONIGHT\n",
      "its snow tonight\n",
      "['its', 'snow', 'tonight']\n",
      "3\n",
      "['its', 'snow', 'tonight']\n",
      "its snow tonight\n"
     ]
    }
   ],
   "source": [
    "message = \"I hope its snow TONIGHT\" # methods\n",
    "print(message[7:])\n",
    "print(message[7:].lower())\n",
    "\n",
    "print(message[7:].lower().split(' '))\n",
    "print(len(message[7:].lower().split(' ')))\n",
    "\n",
    "word_list = message[7:].lower().split(' ')\n",
    "print(word_list)\n",
    "\n",
    "st = ' '.join(word_list)\n",
    "print(st)"
   ]
  },
  {
   "cell_type": "markdown",
   "id": "2fbf8ed5",
   "metadata": {},
   "source": [
    "## Conditions "
   ]
  },
  {
   "cell_type": "code",
   "execution_count": 19,
   "id": "5732e3d7",
   "metadata": {},
   "outputs": [
    {
     "name": "stdout",
     "output_type": "stream",
     "text": [
      "I hope its snow TONIGHT\n",
      "True\n",
      "False\n",
      "True\n"
     ]
    }
   ],
   "source": [
    "print(message)\n",
    "print('hope' in message)\n",
    "print('lol' in message)\n",
    "print('lol' not in message)"
   ]
  },
  {
   "cell_type": "markdown",
   "id": "6cacde88",
   "metadata": {},
   "source": [
    "## Sequence in Python (List , Tuple , Range)"
   ]
  },
  {
   "cell_type": "code",
   "execution_count": 20,
   "id": "dff5ce16",
   "metadata": {},
   "outputs": [
    {
     "name": "stdout",
     "output_type": "stream",
     "text": [
      "['A', 'Manish', 2, 10.455]\n",
      "10.455\n",
      "['A', 'Manish', 2, 10.455, 'Sachin']\n",
      "True\n"
     ]
    }
   ],
   "source": [
    "customers = ['A',\"Manish\",2,10.455]\n",
    "print(customers)\n",
    "\n",
    "print(customers[3])\n",
    "\n",
    "customers.append(\"Sachin\")\n",
    "print(customers)\n",
    "\n",
    "print('A' in customers)\n"
   ]
  },
  {
   "cell_type": "code",
   "execution_count": 21,
   "id": "324ab018",
   "metadata": {},
   "outputs": [
    {
     "name": "stdout",
     "output_type": "stream",
     "text": [
      "4\n",
      "['C0003', 'C0004']\n",
      "['C0001', '777', 'C0004', 'C0007', 'C00010', 'C00011']\n",
      "['C0001', 100, '777', 'C0004', 'C0007', 'C00010', 'C00011']\n",
      "['C0001', 100, 'C0007', 'C00010', 'C00011']\n",
      "['C0001', 100, 'C0007', 'C00011']\n"
     ]
    }
   ],
   "source": [
    "customer_ids = ['C0001', 'C0003', 'C0004', 'C0007', 'C00010','C00011']\n",
    "\n",
    "print(int(customer_ids[2][-3:]))\n",
    "print(customer_ids[1:3])\n",
    "\n",
    "customer_ids[1] = '777' # elements changes\n",
    "print(customer_ids)\n",
    "\n",
    "customer_ids.insert(1,100)\n",
    "print(customer_ids) # elements adding\n",
    "\n",
    "del customer_ids[2:4]  # del \n",
    "print(customer_ids)\n",
    "\n",
    "customer_ids.remove('C00010') # .remove\n",
    "print(customer_ids)"
   ]
  },
  {
   "cell_type": "code",
   "execution_count": 22,
   "id": "a8aab8b5",
   "metadata": {},
   "outputs": [
    {
     "name": "stdout",
     "output_type": "stream",
     "text": [
      "['Sachin', 'Sehwag', 'Yuvraj', 'Dhoni(c)', 'Zaheer Khan']\n",
      "('Sachin', 'Sehwag', 'Yuvraj', 'Dhoni(c)', 'Zaheer Khan')\n",
      "Sachin\n",
      "('Yuvraj', 'Dhoni(c)', 'Zaheer Khan')\n",
      "True\n",
      "False\n",
      "('Sachin', 'Sehwag', 'Yuvraj', 'Dhoni(c)', 'Zaheer Khan')\n",
      "Sachin Sehwag\n"
     ]
    }
   ],
   "source": [
    "player_list = [\"Sachin\" , \"Sehwag\" , \"Yuvraj\" , \"Dhoni(c)\" , \"Zaheer Khan\"]\n",
    "print(player_list)\n",
    "\n",
    "player_tuple = tuple(player_list)\n",
    "print(player_tuple)\n",
    "\n",
    "print(player_tuple[0])\n",
    "print(player_tuple[2:])\n",
    "\n",
    "print(\"Sehwag\" in player_tuple)\n",
    "print(\"Kohli\" in player_tuple)\n",
    "\n",
    "# player_tuple.append(\"Kohli\") # error (can't add in tuple)\n",
    "# player_tuple.remove(1) # can't remove\n",
    "# player_tuple[\"Zaheer Khan\"] = \"Virat\" # can't modify\n",
    "\n",
    "print(player_tuple)\n",
    "player1 , player2 , player3, player4, player5 = player_tuple\n",
    "print(player1,player2)"
   ]
  },
  {
   "cell_type": "code",
   "execution_count": 23,
   "id": "4e7e0c02",
   "metadata": {},
   "outputs": [
    {
     "name": "stdout",
     "output_type": "stream",
     "text": [
      "range(2, 11, 2)\n",
      "[2, 4, 6, 8, 10]\n",
      "2 4 6 8 10 \n",
      "(0, 1, 2, 3, 4, 5)\n",
      "[0, 1, 2, 3, 4, 5, 6, 7, 8, 9, 10, 11, 12]\n",
      "0 2 4 6 8 10 12 "
     ]
    }
   ],
   "source": [
    "example_range = range(2,11,2)\n",
    "print(example_range)\n",
    "print(list(example_range))\n",
    "\n",
    "for i in range(2,11,2):\n",
    "    print(i,end=\" \")\n",
    "    \n",
    "print()\n",
    "print(tuple(range(len(\"Manish\"))))\n",
    "print(list(range(len(\"Manish Kasera\"))))\n",
    "\n",
    "\n",
    "example_range = list(range(len(\"Manish Kasera\")))\n",
    "\n",
    "for i in example_range:\n",
    "    if i % 2 == 0:\n",
    "        print(i , end= \" \")\n"
   ]
  },
  {
   "cell_type": "markdown",
   "id": "fb3cd91e",
   "metadata": {},
   "source": [
    "## Loops"
   ]
  },
  {
   "cell_type": "code",
   "execution_count": 24,
   "id": "8cefdf93",
   "metadata": {},
   "outputs": [
    {
     "name": "stdout",
     "output_type": "stream",
     "text": [
      "M\n",
      "a\n",
      "n\n",
      "i\n",
      "s\n",
      "h\n",
      "[15.98, 899.97, 799.97, 117.96, 5.99, 599.99, 24.99, 1799.94, 99.99]\n",
      "[1.28, 72.0, 64.0, 9.44, 0.48, 48.0, 2.0, 144.0, 8.0]\n",
      "[17.26, 971.97, 863.97, 127.4, 6.47, 647.99, 26.99, 1943.94, 107.99]\n"
     ]
    }
   ],
   "source": [
    "subtotals = [15.98, 899.97, 799.97, 117.96, 5.99, 599.99, 24.99, 1799.94, 99.99]\n",
    "\n",
    "taxes = []\n",
    "totals = []\n",
    "\n",
    "# in\n",
    "\n",
    "text = \"Manish\"\n",
    "\n",
    "for char in text:\n",
    "    print(char)\n",
    "\n",
    "for subtotal in subtotals:\n",
    "    tax = round(subtotal * .08, 2)\n",
    "    total = round(subtotal + tax, 2)\n",
    "    taxes.append(tax)\n",
    "    totals.append(total)\n",
    "\n",
    "print(subtotals)\n",
    "print(taxes)\n",
    "print(totals)   "
   ]
  },
  {
   "cell_type": "code",
   "execution_count": 25,
   "id": "a76993c3",
   "metadata": {},
   "outputs": [
    {
     "name": "stdout",
     "output_type": "stream",
     "text": [
      "[15.98, 899.97, 799.97, 117.96, 5.99, 599.99, 24.99, 1799.94, 99.99]\n",
      "[1.28, 72.0, 64.0, 9.44, 0.48, 48.0, 2.0, 144.0, 8.0]\n",
      "[17.26, 971.97, 863.97, 127.4, 6.47, 647.99, 26.99, 1943.94, 107.99]\n"
     ]
    }
   ],
   "source": [
    "subtotals = [15.98, 899.97, 799.97, 117.96, 5.99, 599.99, 24.99, 1799.94, 99.99]\n",
    "taxes = []\n",
    "totals = []\n",
    "\n",
    "# range and length \n",
    "for i in range(0,len(subtotals),1):\n",
    "    taxes.append(round(subtotals[i]*.08,2))\n",
    "\n",
    "for i in range(0,len(subtotals),1):\n",
    "    totals.append(round(subtotals[i] + taxes[i],2))\n",
    "\n",
    "print(subtotals)\n",
    "print(taxes)\n",
    "print(totals)  "
   ]
  },
  {
   "cell_type": "code",
   "execution_count": 26,
   "id": "69da34f7",
   "metadata": {},
   "outputs": [
    {
     "name": "stdout",
     "output_type": "stream",
     "text": [
      "[5, 3, 1, 4, 5, 4, 5, 3, 1, 4, 5, 4]\n",
      "44\n"
     ]
    }
   ],
   "source": [
    "customer_rating = ['5 Stars', '3 Star', '1 Star', '4 Star', '5 Stars', '4 Star']\n",
    "int(customer_rating[0][0])\n",
    "\n",
    "ratings = []\n",
    "for i in range(0,len(customer_rating),1):\n",
    "    ratings.append(int(customer_rating[i][0]))\n",
    "       \n",
    "for rating in customer_rating:\n",
    "    ratings.append(int(rating[0]))\n",
    "\n",
    "print(ratings)    \n",
    "print(sum(ratings))    \n",
    "    "
   ]
  },
  {
   "cell_type": "code",
   "execution_count": 27,
   "id": "ebf95922",
   "metadata": {
    "scrolled": true
   },
   "outputs": [
    {
     "name": "stdout",
     "output_type": "stream",
     "text": [
      "index : 0 , rating : 5 Stars\n",
      "index : 1 , rating : 3 Star\n",
      "index : 2 , rating : 1 Star\n",
      "index : 3 , rating : 4 Star\n",
      "index : 4 , rating : 5 Stars\n",
      "index : 5 , rating : 4 Star\n"
     ]
    }
   ],
   "source": [
    "customer_rating = ['5 Stars', '3 Star', '1 Star', '4 Star', '5 Stars', '4 Star']\n",
    "\n",
    "for index,rating in enumerate(customer_rating):\n",
    "    print(f\"index : {index} , rating : {rating}\")"
   ]
  },
  {
   "cell_type": "markdown",
   "id": "bfbda75f",
   "metadata": {},
   "source": [
    "## Dictionary and Set"
   ]
  },
  {
   "cell_type": "code",
   "execution_count": 28,
   "id": "81a6559d",
   "metadata": {},
   "outputs": [
    {
     "name": "stdout",
     "output_type": "stream",
     "text": [
      "10\n",
      "item : coffee, quantity: 10\n",
      "item : chai, quantity: 6\n",
      "item : snacks, quantity: 5\n",
      "item : green tea, quantity: [10, 2, 4]\n",
      "\n",
      "{'skis': 'in stock', 'snowboard': 'sold out', 'goggles': 'sold out', 'boots': 'in stock'}\n"
     ]
    }
   ],
   "source": [
    "dic = {\n",
    "    \"coffee\": 10,\n",
    "    \"chai\" : 6,\n",
    "    \"snacks\" : 5,\n",
    "    \"green tea\" : [10,2,4]\n",
    "}\n",
    "\n",
    "print(dic[\"coffee\"])\n",
    "\n",
    "for index,ele in enumerate(dic):\n",
    "    print(f\"item : {ele}, quantity: {dic[ele]}\")\n",
    "\n",
    "    \n",
    "print()    \n",
    "\n",
    "items = ['skis', 'snowboard', 'goggles', 'boots']\n",
    "inventory = [10, 0, 0, 7] \n",
    "\n",
    "inventory_status = {}\n",
    "\n",
    "for index,item in enumerate(items):\n",
    "    if(inventory[index] == 0):\n",
    "        inventory_status[item] = \"sold out\"\n",
    "    else:\n",
    "        inventory_status[item] = \"in stock\"    \n",
    "\n",
    "print(inventory_status)"
   ]
  },
  {
   "cell_type": "code",
   "execution_count": 29,
   "id": "53c6394e",
   "metadata": {},
   "outputs": [
    {
     "name": "stdout",
     "output_type": "stream",
     "text": [
      "{10001: 1, 10002: 2, 10003: 2, 10004: 6, 10005: 2, 10006: 6, 10007: 3, 10008: 3, 10009: 7}\n",
      "{10001: 1, 10002: 2, 10003: 2, 10004: 6, 10005: 2, 10006: 6, 10007: 3, 10008: 3, 10009: 7}\n",
      "{10001: 1, 10002: 2, 10003: 2, 10004: 6, 10005: 2, 10006: 6, 10007: 3, 10008: 3, 10009: 7, 10010: 4, 10011: 7}\n",
      "[5.27, 8.79, 17.59, 21.99, 87.99, 70.39, 105.59, 87.99, 175.99]\n"
     ]
    }
   ],
   "source": [
    "# .items() ,.keys() , .values() , .update({}) ,.gets() are methods of dictionary\n",
    "\n",
    "item_dict = {\n",
    "    10001: ('Coffee', 5.99, 'beverage', ['250mL']),\n",
    "    10002: ('Beanie', 9.99, 'clothing', ['Child', 'Adult']),\n",
    "    10003: ('Gloves', 19.99, 'clothing', ['Child', 'Adult']),\n",
    "    10004: ('Sweatshirt', 24.99, 'clothing', ['XS', 'S', 'M', 'L', 'XL', 'XXL']),\n",
    "    10005: ('Helmet', 99.99, 'safety', ['Child', 'Adult']),\n",
    "    10006: ('Snow Pants', 79.99, 'clothing', ['XS', 'S', 'M', 'L', 'XL', 'XXL']),\n",
    "    10007: ('Coat', 119.99, 'clothing', ['S', 'M', 'L']),\n",
    "    10008: ('Ski Poles', 99.99, 'hardware', ['S', 'M', 'L']),\n",
    "    10009: ('Ski Boots', 199.99, 'hardware', [5, 6, 7, 8, 9, 10, 11])\n",
    "}\n",
    "\n",
    "# print(item_dict)\n",
    "\n",
    "\n",
    "size_countss = {}\n",
    "\n",
    "for key, value in item_dict.items():\n",
    "    size_countss[key] = len(value[3])\n",
    "print(size_countss)   \n",
    "\n",
    "\n",
    "\n",
    "size_counts = {}\n",
    "\n",
    "for dic in  item_dict:\n",
    "    key_size =({dic : len(item_dict[dic][3])})\n",
    "    # type(key_size)\n",
    "    size_counts.update(key_size)\n",
    "\n",
    "print(size_counts) \n",
    "\n",
    "size_counts[10010] = 4\n",
    "size_counts[10011] = 7\n",
    "print(size_counts)\n",
    "\n",
    "exchange_rate = .88\n",
    "euro_prices = []\n",
    "\n",
    "for dic in item_dict:\n",
    "    euro_prices.append(round(item_dict[dic][1] * 0.88,2))\n",
    "\n",
    "print(euro_prices)"
   ]
  },
  {
   "cell_type": "code",
   "execution_count": 30,
   "id": "dac0ee78",
   "metadata": {},
   "outputs": [
    {
     "name": "stdout",
     "output_type": "stream",
     "text": [
      "{10001: ('Coffee', 5.27), 10002: ('Beanie', 8.79), 10003: ('Gloves', 17.59), 10004: ('Sweatshirt', 21.99), 10005: ('Helmet', 87.99), 10006: ('Snow Pants', 70.39), 10007: ('Coat', 105.59), 10008: ('Ski Poles', 87.99), 10009: ('Ski Boots', 175.99)}\n"
     ]
    }
   ],
   "source": [
    "item_ids = [\n",
    "    10001, 10002, 10003, 10004, 10005, \n",
    "    10006, 10007, 10008, 10009\n",
    "]\n",
    "\n",
    "item_names = [\n",
    "    \"Coffee\", \"Beanie\", \"Gloves\", \"Sweatshirt\", \"Helmet\",\n",
    "    \"Snow Pants\", \"Coat\", \"Ski Poles\", \"Ski Boots\"\n",
    "]\n",
    "\n",
    "euro_prices = [\n",
    "    5.27, 8.79, 17.59, 21.99, 87.99, \n",
    "    70.39, 105.59, 87.99, 175.99\n",
    "]\n",
    "\n",
    "euro_dict = dict(zip(item_ids,zip(item_names,euro_prices)))\n",
    "print(euro_dict)"
   ]
  },
  {
   "cell_type": "code",
   "execution_count": 31,
   "id": "5647d297",
   "metadata": {},
   "outputs": [
    {
     "name": "stdout",
     "output_type": "stream",
     "text": [
      "{40, 10, 50, 20, 30}\n",
      "5\n",
      "40 10 50 20 30 \n",
      "True\n",
      "False\n"
     ]
    }
   ],
   "source": [
    "# set contains unique elements\n",
    "\n",
    "marks = [10,20,30,40,40,50,50,10,20]\n",
    "\n",
    "markss = set(marks)\n",
    "print(markss)\n",
    "print(len(markss))\n",
    "\n",
    "for mark in markss:\n",
    "    print(mark,end=\" \")\n",
    "    \n",
    "print()  \n",
    "\n",
    "print(10 in marks)\n",
    "print(10 not in marks)\n",
    "\n",
    "# union , interaction , difference(-) , symmetric difference are few methods of set\n"
   ]
  },
  {
   "cell_type": "markdown",
   "id": "1088bee4",
   "metadata": {},
   "source": [
    "## Functions\n"
   ]
  },
  {
   "cell_type": "code",
   "execution_count": 32,
   "id": "e168aebd",
   "metadata": {},
   "outputs": [
    {
     "name": "stdout",
     "output_type": "stream",
     "text": [
      "5\n",
      "4\n",
      "3\n",
      "5\n",
      "1\n",
      "4\n"
     ]
    }
   ],
   "source": [
    "ratings = [['5 star' ,'4 star', '3 star'],['5 star','1 star'] , ['4 star']]\n",
    "\n",
    "\n",
    "def cleaning_rating(rating):\n",
    "    \"\"\"\n",
    "    gets numeric data from web rating\n",
    "    \n",
    "    Args:\n",
    "      rating(str): text rating from web\n",
    "    Returns:\n",
    "      int : integer rating from web\n",
    "      \n",
    "    \"\"\"\n",
    "    numeric_rating = int(rating[0])\n",
    "    return numeric_rating\n",
    "\n",
    "\n",
    "for rating in ratings:\n",
    "    for x in rating:\n",
    "        print(cleaning_rating(x))\n",
    "        \n",
    "# cleaning_rating?\n"
   ]
  },
  {
   "cell_type": "code",
   "execution_count": 33,
   "id": "1e17f9c7",
   "metadata": {},
   "outputs": [
    {
     "name": "stdout",
     "output_type": "stream",
     "text": [
      "My\n",
      "name\n",
      "is\n",
      "Khan\n",
      "List :  ['My', 'name', 'is', 'Khan']\n",
      "Tuple :  ('My', 'name', 'is', 'Khan')\n",
      "Dictionary : {'My': 0, 'name': 1, 'is': 2, 'Khan': 3}\n"
     ]
    }
   ],
   "source": [
    "words = []\n",
    "dic = {}\n",
    "\n",
    "def print_sentence(*sentence):\n",
    "    i = 0\n",
    "    for word in sentence:\n",
    "        test = ({word:i})\n",
    "        i += 1\n",
    "        dic.update(test)\n",
    "        words.append(word)\n",
    "        print(word)\n",
    "        \n",
    "print_sentence(\"My\", \"name\",\"is\",\"Khan\")        \n",
    "print(\"List : \", words)  \n",
    "print(\"Tuple : \",(tuple(words)))\n",
    "print(\"Dictionary :\" ,dic)\n",
    "        "
   ]
  },
  {
   "cell_type": "code",
   "execution_count": 34,
   "id": "b0f269c7",
   "metadata": {},
   "outputs": [
    {
     "name": "stdout",
     "output_type": "stream",
     "text": [
      "Overwriting test.py\n"
     ]
    }
   ],
   "source": [
    "%%writefile test.py\n",
    "\n",
    "#create and import module \n",
    "\n",
    "def multiply(a,b):\n",
    "    return a*b\n",
    "\n",
    "def divide(a,b):\n",
    "    return a//b\n",
    "\n",
    "def add(a,b):\n",
    "    return a+b\n",
    "\n",
    "def sub(a,b):\n",
    "    a-b\n",
    "    \n",
    "def remainder(a,b):\n",
    "    return a%b\n",
    "    "
   ]
  },
  {
   "cell_type": "code",
   "execution_count": 35,
   "id": "6ed2bfec",
   "metadata": {},
   "outputs": [
    {
     "name": "stdout",
     "output_type": "stream",
     "text": [
      "24\n",
      "5\n"
     ]
    }
   ],
   "source": [
    "import test \n",
    "\n",
    "print(test.multiply(12,2))\n",
    "print(test.divide(10,2))\n"
   ]
  },
  {
   "cell_type": "code",
   "execution_count": 36,
   "id": "ea47dee3",
   "metadata": {},
   "outputs": [
    {
     "name": "stdout",
     "output_type": "stream",
     "text": [
      "5\n"
     ]
    }
   ],
   "source": [
    "from test import divide\n",
    "\n",
    "\n",
    "print(divide(100,20))"
   ]
  },
  {
   "cell_type": "code",
   "execution_count": 37,
   "id": "d7ac9899",
   "metadata": {},
   "outputs": [
    {
     "name": "stdout",
     "output_type": "stream",
     "text": [
      "[15.98, 0.96, 16.94]\n"
     ]
    }
   ],
   "source": [
    "# making a tax_calulator modulo and importing it\n",
    "\n",
    "# %%writefile tax_calculator.py\n",
    "\n",
    "# def tax_calculator(subtotal):\n",
    "#     total_tax = subtotal * 0.06\n",
    "#     total = subtotal + total_tax\n",
    "#     return [subtotal,total_tax,total] \n",
    "\n",
    "import tax_calculator as t\n",
    "\n",
    "print(t.tax_calculator(15.98))"
   ]
  },
  {
   "cell_type": "code",
   "execution_count": 38,
   "id": "c3438e71",
   "metadata": {},
   "outputs": [
    {
     "name": "stdout",
     "output_type": "stream",
     "text": [
      "{'C00004': [15.98, 0.96, 16.94], 'C00007': [899.97, 54.0, 953.97], 'C00015': [799.97, 48.0, 847.97], 'C00016': [117.96, 7.08, 125.04], 'C00020': [5.99, 0.36, 6.35], 'C00010': [599.99, 36.0, 635.99]}\n",
      "{}\n"
     ]
    }
   ],
   "source": [
    "import tax_calculator as t\n",
    "\n",
    "subtotals = [15.98, 899.97, 799.97, 117.96, 5.99, 599.99]\n",
    "full_transactions =[]\n",
    "\n",
    "for subtotal in subtotals:\n",
    "    full_transactions.append(t.tax_calculator(subtotal))\n",
    "\n",
    "\n",
    "# print(full_transactions)    \n",
    "\n",
    "\n",
    "customer_ids = ['C00004', 'C00007', 'C00015', 'C00016', 'C00020', 'C00010']\n",
    "\n",
    "\n",
    "customer_dict = {}\n",
    "\n",
    "for index,full_transaction in enumerate(full_transactions):\n",
    "    customer = ({customer_ids[index]:full_transaction})\n",
    "    customer_dict.update(customer)\n",
    "\n",
    "print(customer_dict)  \n",
    "\n",
    "# or using zip functions\n",
    "\n",
    "customer_dicts = {}\n",
    "\n",
    "customers_dicts = dict(zip(customer_ids,full_transactions))\n",
    "\n",
    "print(customer_dicts)  \n",
    "    "
   ]
  },
  {
   "cell_type": "code",
   "execution_count": 39,
   "id": "b998a113",
   "metadata": {},
   "outputs": [
    {
     "name": "stdout",
     "output_type": "stream",
     "text": [
      "['__builtins__', '__cached__', '__doc__', '__file__', '__loader__', '__name__', '__package__', '__spec__', 'add', 'divide', 'multiply', 'remainder', 'sub']\n"
     ]
    },
    {
     "ename": "NameError",
     "evalue": "name 'math' is not defined",
     "output_type": "error",
     "traceback": [
      "\u001b[1;31m---------------------------------------------------------------------------\u001b[0m",
      "\u001b[1;31mNameError\u001b[0m                                 Traceback (most recent call last)",
      "Cell \u001b[1;32mIn[39], line 4\u001b[0m\n\u001b[0;32m      1\u001b[0m \u001b[38;5;28mprint\u001b[39m(\u001b[38;5;28mdir\u001b[39m(test)) \u001b[38;5;66;03m# give all the funtion in test.py module\u001b[39;00m\n\u001b[0;32m      3\u001b[0m \u001b[38;5;28;01mimport\u001b[39;00m \u001b[38;5;21;01mmath\u001b[39;00m \u001b[38;5;28;01mas\u001b[39;00m \u001b[38;5;21;01mm\u001b[39;00m\n\u001b[1;32m----> 4\u001b[0m \u001b[38;5;28mprint\u001b[39m(\u001b[38;5;28mdir\u001b[39m(math))\n\u001b[0;32m      6\u001b[0m \u001b[38;5;28mprint\u001b[39m(m\u001b[38;5;241m.\u001b[39msqrt(\u001b[38;5;241m90\u001b[39m))\n\u001b[0;32m      7\u001b[0m \u001b[38;5;28mprint\u001b[39m(m\u001b[38;5;241m.\u001b[39mpow(\u001b[38;5;241m10\u001b[39m,\u001b[38;5;241m2\u001b[39m))\n",
      "\u001b[1;31mNameError\u001b[0m: name 'math' is not defined"
     ]
    }
   ],
   "source": [
    "print(dir(test)) # give all the funtion in test.py module\n",
    "\n",
    "import math as m\n",
    "print(dir(math))\n",
    "\n",
    "print(m.sqrt(90))\n",
    "print(m.pow(10,2))\n",
    "\n",
    "#installing a package\n",
    "\n",
    "# Not a best way\n",
    "# !conda install openpyxl # conda is package manager for python\n",
    "\n",
    "#Best way to install packages\n",
    "import sys\n",
    "# !conda install --yes --prefix {sys.prefix} openpyxl\n",
    "\n"
   ]
  },
  {
   "cell_type": "code",
   "execution_count": null,
   "id": "3ddb3d2c",
   "metadata": {},
   "outputs": [],
   "source": [
    "#!conda list # list all the module "
   ]
  },
  {
   "cell_type": "code",
   "execution_count": null,
   "id": "45874ecc",
   "metadata": {},
   "outputs": [],
   "source": [
    "# map(function,iterable)\n",
    "\n",
    "def currency_formatter(number):\n",
    "    return '$' + str(number)\n",
    "\n",
    "\n",
    "price_list = [10.23,49.28,183.1,39.23,297.23]\n",
    "list(map(currency_formatter,price_list))\n",
    "\n"
   ]
  },
  {
   "cell_type": "code",
   "execution_count": null,
   "id": "675873b5",
   "metadata": {},
   "outputs": [],
   "source": [
    "import tax_calculator as t\n",
    "\n",
    "subtotals = [1799.94, 99.99, 254.95, 29.98, 99.99]\n",
    "\n",
    "list(map(t.tax_calculator,subtotals))\n",
    "    \n",
    "    "
   ]
  },
  {
   "cell_type": "markdown",
   "id": "5ccdc8bb",
   "metadata": {},
   "source": [
    "### Lambda Functions "
   ]
  },
  {
   "cell_type": "code",
   "execution_count": null,
   "id": "f786fd9f",
   "metadata": {},
   "outputs": [],
   "source": [
    "# It is an anonymous function that used heavly\n",
    "# lambda argumnent : expression\n",
    "\n",
    "print((lambda x: x**2) (3))\n",
    "# (lambda x: y**2, y**3) (3) # Error (only single value)\n",
    "\n",
    "print((lambda x,y : x*y if y >5 else x/y) (6,5))\n",
    "\n",
    "\n",
    "price_list = [179.94, 99.99, 254.95, 29.98, 99.99]\n",
    "exchange_rate = 0.88\n",
    "\n",
    "converted = map(lambda x :round(x * exchange_rate,2),price_list)\n",
    "\n",
    "print(list(converted))\n",
    "\n",
    "\n",
    "# print the cutomer_id(int)\n",
    "\n",
    "customer_ids = [\"C00001\" , \"C00021\", \"C00110\",\"C11111\"]\n",
    "\n",
    "for ids in customer_ids:\n",
    "    print(int(ids[1:]))\n",
    "\n",
    "list_customer_ids = list(map(lambda x : int(x[1:]),customer_ids))  \n",
    "print(list_customer_ids)"
   ]
  },
  {
   "cell_type": "code",
   "execution_count": null,
   "id": "408431e2",
   "metadata": {},
   "outputs": [],
   "source": [
    "# Map and Lambda function \n",
    "\n",
    "#Using map and functions\n",
    "def last_word(sentence):\n",
    "    words = sentence.split()\n",
    "    return words[-1]\n",
    "    \n",
    "sentences = [\"I Love Python!\", \"I Love Pizza!\", \"Pizza Loves Me!\", \"I Just want to finish this course!\"]\n",
    "\n",
    "result = list(map(last_word,sentences))\n",
    "\n",
    "print(result)\n",
    "\n",
    "\n",
    "# Using Map and Lambda Function\n",
    "sentences_list = [\"I Love Python!\", \"I Love Pizza!\", \"Pizza Loves Me!\", \"I Just want to finish this course!\"]\n",
    " \n",
    "result = list(map(lambda sentence: sentence.split()[-1], sentences_list))\n",
    " \n",
    "print(result)"
   ]
  },
  {
   "cell_type": "markdown",
   "id": "551e339e",
   "metadata": {},
   "source": [
    "### Comprehensions in list , dictionary"
   ]
  },
  {
   "cell_type": "code",
   "execution_count": 53,
   "id": "f1ab3ab4",
   "metadata": {},
   "outputs": [
    {
     "name": "stdout",
     "output_type": "stream",
     "text": [
      "[8.98, 20.61, 3.7, 21.23, 2.02, 17.78]\n",
      "[8.98, 20.61, 3.7, 21.23, 2.02, 17.78]\n",
      "[8.98, 20.61, 21.23, 17.78]\n"
     ]
    }
   ],
   "source": [
    "# Convert usd to euro list\n",
    "\n",
    "usd_list = [10.2,23.42,4.2,24.13,2.3,20.2]\n",
    "exchange_list = 0.88\n",
    "euro_list = []\n",
    "\n",
    "for usd in usd_list:\n",
    "     euro_list.append(round(usd * exchange_rate,2))\n",
    "\n",
    "print(euro_list)        \n",
    "\n",
    "\n",
    "#Using comprehension \n",
    "\n",
    "#new_list = [expression for member in other iterable if condition]\n",
    "\n",
    "euro_lists = [round(usd * exchange_rate,2) for usd in usd_list] \n",
    "print(euro_lists)\n",
    "\n",
    "euro_listss = [round(usd * exchange_rate,2) for usd in usd_list if usd > 10] \n",
    "print(euro_listss)"
   ]
  },
  {
   "cell_type": "code",
   "execution_count": 55,
   "id": "09dc51ff",
   "metadata": {},
   "outputs": [
    {
     "name": "stdout",
     "output_type": "stream",
     "text": [
      "[5, 3, 2, 5, 1]\n",
      "[5, 3, 2, 5, 1]\n",
      "[3, 2, 1]\n"
     ]
    }
   ],
   "source": [
    "import numpy as np\n",
    "\n",
    "ratings = [\"5 star\", \"3 star\", \"2 star\", \"5 star\", \"1 star\"]\n",
    "numeric_rating = []\n",
    "\n",
    "for rating in ratings:\n",
    "    numeric_rating.append(int(rating[0]))\n",
    "    \n",
    "print(numeric_rating)    \n",
    "\n",
    "\n",
    "numeric_ratings = [int(rating[0]) for rating in ratings]\n",
    "print(numeric_ratings)\n",
    "\n",
    "less_numeric_ratings = [int(rating[0]) for rating in ratings if int(rating[0]) < 4 ]\n",
    "print(less_numeric_ratings)"
   ]
  },
  {
   "cell_type": "code",
   "execution_count": 60,
   "id": "8ceb7030",
   "metadata": {},
   "outputs": [
    {
     "name": "stdout",
     "output_type": "stream",
     "text": [
      "{'peanut_butter': [2, 250], 'banana': [10, 5], 'bread': [4, 18], 'egg': [0, 7]}\n",
      "{'peanut_butter': 500, 'banana': 50, 'bread': 72}\n"
     ]
    }
   ],
   "source": [
    "# Comprehension Dictionary\n",
    "# Syntax new_dict = {key: value for key,value in other iterable(if condition)}\n",
    "\n",
    "items = [\"peanut_butter\" ,\"banana\", \"bread\" ,\"egg\"]\n",
    "status = [[2,250],[10,5],[4,18],[0,7]]\n",
    "\n",
    "print(dict(zip(items,status)))\n",
    "\n",
    "inventory_cost = {k :round(v[0] * v[1],2) for  k, v in zip(items,status) if v[0] > 0}\n",
    "print(inventory_cost)"
   ]
  },
  {
   "cell_type": "code",
   "execution_count": 81,
   "id": "f2c96fc2",
   "metadata": {},
   "outputs": [
    {
     "data": {
      "text/plain": [
       "{'C00004': [15.98, 0.96, 16.94],\n",
       " 'C00007': [899.97, 54.0, 953.97],\n",
       " 'C00015': [799.97, 48.0, 847.97],\n",
       " 'C00016': [117.96, 7.08, 125.04],\n",
       " 'C00020': [5.99, 0.36, 6.35],\n",
       " 'C00010': [599.99, 36.0, 635.99]}"
      ]
     },
     "execution_count": 81,
     "metadata": {},
     "output_type": "execute_result"
    }
   ],
   "source": [
    "from tax_calculator import tax_calculator\n",
    "\n",
    "customer_ids = ['C00004', 'C00007', 'C00015', 'C00016', 'C00020', 'C00010']\n",
    "\n",
    "subtotals = [15.98, 899.97, 799.97, 117.96, 5.99, 599.99]\n",
    "\n",
    "# new_dict = {key:tax_calculator(value) for key,value in zip(customer_ids,subtotals)}\n",
    "# print(new_dict)\n",
    "\n",
    "def transaction_dict_creator(customer_ids, subtotals):\n",
    "    customer_dict = {\n",
    "        customer_id: tax_calculator(subtotal)\n",
    "        for customer_id, subtotal in zip(customer_ids, subtotals)\n",
    "    }\n",
    "\n",
    "    return customer_dict\n",
    "\n",
    "transaction_dict_creator(customer_ids, subtotals)"
   ]
  }
 ],
 "metadata": {
  "kernelspec": {
   "display_name": "Python 3 (ipykernel)",
   "language": "python",
   "name": "python3"
  },
  "language_info": {
   "codemirror_mode": {
    "name": "ipython",
    "version": 3
   },
   "file_extension": ".py",
   "mimetype": "text/x-python",
   "name": "python",
   "nbconvert_exporter": "python",
   "pygments_lexer": "ipython3",
   "version": "3.11.5"
  }
 },
 "nbformat": 4,
 "nbformat_minor": 5
}
