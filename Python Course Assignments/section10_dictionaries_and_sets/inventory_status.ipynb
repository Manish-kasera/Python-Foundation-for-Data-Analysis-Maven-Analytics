{
 "cells": [
  {
   "cell_type": "markdown",
   "id": "4bd4c63b",
   "metadata": {},
   "source": [
    "### Inventory Status\n",
    "\n",
    "Our products and inventory levels are in the lists below.\n",
    "\n",
    "Run the cell below to create the lists."
   ]
  },
  {
   "cell_type": "code",
   "execution_count": 20,
   "id": "f792cd46",
   "metadata": {},
   "outputs": [],
   "source": [
    "items = ['skis', 'snowboard', 'goggles', 'boots']\n",
    "inventory = [10, 0, 0, 7] "
   ]
  },
  {
   "cell_type": "markdown",
   "id": "00324274",
   "metadata": {},
   "source": [
    "### Inventory Status Dictionary\n",
    "\n",
    "Can you create a dictionary that:\n",
    "\n",
    "* Stores item name as keys\n",
    "* Values are 'sold out' if inventory is 0, and 'in stock' if not?\n",
    "\n",
    "Don't create this by writing out all the key value pairs!\n",
    "\n",
    "Thanks!"
   ]
  },
  {
   "cell_type": "code",
   "execution_count": 23,
   "id": "d3ba4f32",
   "metadata": {},
   "outputs": [
    {
     "name": "stdout",
     "output_type": "stream",
     "text": [
      "{'skis': 'in stock', 'snowboard': 'sold out', 'goggles': 'sold out', 'boots': 'in stock'}\n"
     ]
    }
   ],
   "source": [
    "inventory_status = {}\n",
    "\n",
    "\n",
    "# inventory_status[\"skis\"] = inventory[0]\n",
    "# inventory_status[\"snowboard\"] = inventory[1] \n",
    "# inventory_status[\"googles\"] = inventory[2]\n",
    "# inventory_status[\"boots\"] = inventory[3]\n",
    "\n",
    "# print(inventory_status)\n",
    "\n",
    "# for inv in inventory_status:\n",
    "#     if(inventory_status[inv] == 0):\n",
    "#       inventory_status[inv] = \"sold out\"\n",
    "#     else:\n",
    "#        inventory_status[inv] = \"in stock\"       \n",
    "\n",
    "\n",
    "\n",
    "\n",
    "# for index,item in enumerate(items):  \n",
    "#     val = {item : inventory[index]}\n",
    "#     inventory_status.update(val)\n",
    "\n",
    "# for inv in inventory_status:\n",
    "#     if(inventory_status[inv] == 0):\n",
    "#       inventory_status[inv] = \"sold out\"\n",
    "#     else:\n",
    "#        inventory_status[inv] = \"in stock\"       \n",
    "\n",
    "# print(inventory_status)\n",
    "\n",
    "\n",
    "for index,item in enumerate(items):\n",
    "    if(inventory[index] == 0):\n",
    "        inventory_status[item] = \"sold out\"\n",
    "    else:\n",
    "        inventory_status[item] = \"in stock\"    \n",
    "\n",
    "print(inventory_status)"
   ]
  },
  {
   "cell_type": "code",
   "execution_count": null,
   "id": "70e0112c",
   "metadata": {},
   "outputs": [],
   "source": [
    "inventory_status"
   ]
  },
  {
   "cell_type": "code",
   "execution_count": null,
   "id": "54401711",
   "metadata": {},
   "outputs": [],
   "source": []
  }
 ],
 "metadata": {
  "kernelspec": {
   "display_name": "Python 3 (ipykernel)",
   "language": "python",
   "name": "python3"
  },
  "language_info": {
   "codemirror_mode": {
    "name": "ipython",
    "version": 3
   },
   "file_extension": ".py",
   "mimetype": "text/x-python",
   "name": "python",
   "nbconvert_exporter": "python",
   "pygments_lexer": "ipython3",
   "version": "3.12.0"
  }
 },
 "nbformat": 4,
 "nbformat_minor": 5
}
