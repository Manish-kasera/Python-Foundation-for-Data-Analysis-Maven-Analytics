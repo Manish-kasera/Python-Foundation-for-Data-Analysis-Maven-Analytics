{
 "cells": [
  {
   "cell_type": "markdown",
   "id": "2db5877d",
   "metadata": {},
   "source": [
    "### Apply A Special Discount\n",
    "\n",
    "\n",
    "We need to apply a discount for customers who purchased more than 500 dollars worth of product – they’re starting to complain it hasn’t been applied. They need to get 10% off on their orders.\n",
    "\n",
    "\n",
    "Can you quickly apply a discount? Store the new prices in a list called `discounted_subtotals`."
   ]
  },
  {
   "cell_type": "code",
   "execution_count": 1,
   "id": "456c6f28",
   "metadata": {},
   "outputs": [],
   "source": [
    "subtotals = [15.98, 899.97, 799.97, 117.96, 5.99, 599.99]\n",
    "discounted_subtotals1 = []\n",
    "discounted_subtotals2 = []\n",
    "discounted_subtotals3 = []"
   ]
  },
  {
   "cell_type": "code",
   "execution_count": 2,
   "id": "f679d45e",
   "metadata": {},
   "outputs": [
    {
     "name": "stdout",
     "output_type": "stream",
     "text": [
      "[15.98, 809.97, 719.97, 117.96, 5.99, 539.99]\n"
     ]
    }
   ],
   "source": [
    "#Using Simple Loop\n",
    "\n",
    "for subtotal in subtotals:\n",
    "    if(subtotal > 500):\n",
    "        discounted_subtotals1.append(round(subtotal *0.9,2))\n",
    "    else:\n",
    "        discounted_subtotals1.append(subtotal)    \n",
    "        \n",
    "\n",
    "print(discounted_subtotals1)"
   ]
  },
  {
   "cell_type": "code",
   "execution_count": 15,
   "id": "02183bfe",
   "metadata": {},
   "outputs": [
    {
     "name": "stdout",
     "output_type": "stream",
     "text": [
      "[15.98, 809.97, 719.97, 117.96, 5.99, 539.99]\n"
     ]
    }
   ],
   "source": [
    "# Using Map Function\n",
    "def converter(subtotal):\n",
    "    if(subtotal > 500):\n",
    "        return round(subtotal * 0.9,2)\n",
    "    else:\n",
    "        return subtotal\n",
    "\n",
    "discounted_subtotals2 = list(map(converter,subtotals))\n",
    "print(discounted_subtotals2)"
   ]
  },
  {
   "cell_type": "code",
   "execution_count": 17,
   "id": "449760c5",
   "metadata": {},
   "outputs": [
    {
     "name": "stdout",
     "output_type": "stream",
     "text": [
      "[15.98, 809.97, 719.97, 117.96, 5.99, 539.99]\n"
     ]
    }
   ],
   "source": [
    "# Using Map and lambda function\n",
    "\n",
    "discounted_subtotals3 = list(map(lambda subtotal : round(subtotal *0.9,2) if subtotal > 500 else subtotal,subtotals))\n",
    "print(discounted_subtotals3)"
   ]
  }
 ],
 "metadata": {
  "kernelspec": {
   "display_name": "Python 3 (ipykernel)",
   "language": "python",
   "name": "python3"
  },
  "language_info": {
   "codemirror_mode": {
    "name": "ipython",
    "version": 3
   },
   "file_extension": ".py",
   "mimetype": "text/x-python",
   "name": "python",
   "nbconvert_exporter": "python",
   "pygments_lexer": "ipython3",
   "version": "3.12.0"
  }
 },
 "nbformat": 4,
 "nbformat_minor": 5
}
