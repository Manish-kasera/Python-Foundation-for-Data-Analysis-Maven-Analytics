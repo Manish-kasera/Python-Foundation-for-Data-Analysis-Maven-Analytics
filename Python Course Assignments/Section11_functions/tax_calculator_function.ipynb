{
 "cells": [
  {
   "cell_type": "markdown",
   "id": "260aa780",
   "metadata": {},
   "source": [
    "#### Tax Calculator\n",
    "\n",
    "Write a function that takes a subtotal and a tax rate and returns the total invoice amount.\n",
    "\n",
    "* Tax is equal to subtotal multiplied by the tax rate.\n",
    "* The total is equal to subtotal plus tax."
   ]
  },
  {
   "cell_type": "code",
   "execution_count": 3,
   "id": "6ddc3a19",
   "metadata": {},
   "outputs": [],
   "source": [
    "def tax_calculator(subtotal,tax_rate):\n",
    "    tax =  subtotal * tax_rate\n",
    "    return subtotal + tax"
   ]
  },
  {
   "cell_type": "code",
   "execution_count": 4,
   "id": "bb359f4b",
   "metadata": {},
   "outputs": [
    {
     "name": "stdout",
     "output_type": "stream",
     "text": [
      "109.0\n"
     ]
    }
   ],
   "source": [
    "print(tax_calculator(100, .09))"
   ]
  },
  {
   "cell_type": "code",
   "execution_count": null,
   "id": "f90239be",
   "metadata": {},
   "outputs": [],
   "source": []
  }
 ],
 "metadata": {
  "kernelspec": {
   "display_name": "Python 3 (ipykernel)",
   "language": "python",
   "name": "python3"
  },
  "language_info": {
   "codemirror_mode": {
    "name": "ipython",
    "version": 3
   },
   "file_extension": ".py",
   "mimetype": "text/x-python",
   "name": "python",
   "nbconvert_exporter": "python",
   "pygments_lexer": "ipython3",
   "version": "3.12.0"
  }
 },
 "nbformat": 4,
 "nbformat_minor": 5
}
