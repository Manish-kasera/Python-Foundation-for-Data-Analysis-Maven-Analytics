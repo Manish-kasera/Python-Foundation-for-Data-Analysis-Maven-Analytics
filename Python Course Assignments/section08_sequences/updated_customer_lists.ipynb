{
 "cells": [
  {
   "cell_type": "markdown",
   "id": "80f78a5d",
   "metadata": {},
   "source": [
    "### Updated Customer Lists\n",
    "\n",
    "Hi there, we need to add customer 'C00009' to `customer_list`, we just found their receipt in the warehouse.\n",
    "\n",
    "I've included the original `customer_list` below."
   ]
  },
  {
   "cell_type": "code",
   "execution_count": 1,
   "id": "ae8b954c",
   "metadata": {},
   "outputs": [],
   "source": [
    "customer_list = [\n",
    "    'C00001', 'C00003', 'C00004','C00005', 'C00006', \n",
    "    'C00007', 'C00008', 'C00010', 'C00013', 'C00014', \n",
    "    'C00015', 'C00016', 'C00020'\n",
    "]"
   ]
  },
  {
   "cell_type": "code",
   "execution_count": 2,
   "id": "325d8278",
   "metadata": {},
   "outputs": [
    {
     "name": "stdout",
     "output_type": "stream",
     "text": [
      "['C00001', 'C00003', 'C00004', 'C00005', 'C00006', 'C00007', 'C00008', 'C00010', 'C00013', 'C00014', 'C00015', 'C00016', 'C00020', 'C00009']\n"
     ]
    }
   ],
   "source": [
    "customer_list.append('C00009')\n",
    "print(customer_list)"
   ]
  },
  {
   "cell_type": "markdown",
   "id": "dd19810a",
   "metadata": {},
   "source": [
    "### Adding Saturday Customers\n",
    "\n",
    "Add the customers from `saturday_list` to `customer_list` below."
   ]
  },
  {
   "cell_type": "code",
   "execution_count": 3,
   "id": "f2fd414a",
   "metadata": {},
   "outputs": [
    {
     "name": "stdout",
     "output_type": "stream",
     "text": [
      "['C00001', 'C00003', 'C00004', 'C00005', 'C00006', 'C00007', 'C00008', 'C00010', 'C00013', 'C00014', 'C00015', 'C00016', 'C00020', 'C00009', ['C00004', 'C00017', 'C00019', 'C00002', 'C00008', 'C00021', 'C00022']]\n"
     ]
    }
   ],
   "source": [
    "saturday_list = [\n",
    "    'C00004', 'C00017', 'C00019', 'C00002', 'C00008',\n",
    "    'C00021', 'C00022'\n",
    "]\n",
    "\n",
    "customer_list.append(saturday_list)\n",
    "print(customer_list)"
   ]
  },
  {
   "cell_type": "code",
   "execution_count": null,
   "id": "ed0b3c31",
   "metadata": {},
   "outputs": [],
   "source": []
  }
 ],
 "metadata": {
  "kernelspec": {
   "display_name": "Python 3 (ipykernel)",
   "language": "python",
   "name": "python3"
  },
  "language_info": {
   "codemirror_mode": {
    "name": "ipython",
    "version": 3
   },
   "file_extension": ".py",
   "mimetype": "text/x-python",
   "name": "python",
   "nbconvert_exporter": "python",
   "pygments_lexer": "ipython3",
   "version": "3.12.0"
  }
 },
 "nbformat": 4,
 "nbformat_minor": 5
}
