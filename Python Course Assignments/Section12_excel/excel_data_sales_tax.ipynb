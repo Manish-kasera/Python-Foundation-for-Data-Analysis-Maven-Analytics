{
 "cells": [
  {
   "cell_type": "markdown",
   "id": "53a15102",
   "metadata": {},
   "source": [
    "### Excel Data Sales Tax\n",
    "\n",
    "We need to calculate the sales tax for customer C00010 in the excel workbook 'maven_ski_shop_data'.\n",
    "\n",
    "Their transaction should be in row 'D10'. Apply a sales tax of 8%. \n",
    "\n",
    "First:\n",
    "\n",
    "* Import the openpyxl library.\n",
    "* Then load the workbook 'maven_ski_shop_data.xlsx' into Python (this is in the current section folder).\n",
    "* Finally, assign a name to the 'Orders_Info' worksheet."
   ]
  },
  {
   "cell_type": "code",
   "execution_count": 5,
   "id": "3d9b16c3",
   "metadata": {},
   "outputs": [],
   "source": [
    "import openpyxl as xl\n",
    "\n",
    "path = \"C:\\\\Users\\\\61095901\\\\Documents\\\\Data Analytics(udemy)\\\\Python\\\\Python Foundation Course\\\\Python Course Assignments\\\\Section12_excel\\\\maven_ski_shop_data.xlsx\"\n",
    "workbook = xl.load_workbook(filename=path)\n",
    "\n",
    "orders = workbook[\"Orders_Info\"]\n"
   ]
  },
  {
   "cell_type": "markdown",
   "id": "29c10cac",
   "metadata": {},
   "source": [
    "### Sales Tax Calculation\n",
    "\n",
    "Ok, you should be ready to go - calculate the sales tax and total for the transaction in cell D10. \n",
    "\n",
    "Remember we already have a tax calculator function to do this! \n",
    "\n",
    "Consider printing your output with a string message!"
   ]
  },
  {
   "cell_type": "code",
   "execution_count": 19,
   "id": "9c21f0e8",
   "metadata": {},
   "outputs": [
    {
     "name": "stdout",
     "output_type": "stream",
     "text": [
      "Sales Tax : $8.0\n",
      "Total: $107.99\n"
     ]
    }
   ],
   "source": [
    "import tax_calculator as tax_calculator\n",
    "\n",
    "transaction = tax_calculator.tax_calculator(orders[\"D10\"].value,0.08)\n",
    "\n",
    "print(\"Sales Tax : $\" + str(round(transaction[1],2)))\n",
    "print(\"Total: $\" + str(round(transaction[2],2)))"
   ]
  }
 ],
 "metadata": {
  "kernelspec": {
   "display_name": "Python 3 (ipykernel)",
   "language": "python",
   "name": "python3"
  },
  "language_info": {
   "codemirror_mode": {
    "name": "ipython",
    "version": 3
   },
   "file_extension": ".py",
   "mimetype": "text/x-python",
   "name": "python",
   "nbconvert_exporter": "python",
   "pygments_lexer": "ipython3",
   "version": "3.11.5"
  }
 },
 "nbformat": 4,
 "nbformat_minor": 5
}
